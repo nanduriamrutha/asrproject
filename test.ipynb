{
 "cells": [
  {
   "cell_type": "code",
   "execution_count": null,
   "metadata": {
    "collapsed": true
   },
   "outputs": [],
   "source": [
    "# Required libraries to import\n",
    "import numpy as np\n",
    "import pandas as pd\n",
    "from sklearn.mixture import GaussianMixture\n",
    "import pickle\n",
    "import per"
   ]
  },
  {
   "cell_type": "code",
   "execution_count": null,
   "metadata": {
    "collapsed": true
   },
   "outputs": [],
   "source": [
    "mfcc_dir = 'models/withenergy/mfcc_13_2/'\n",
    "TEST_DF = 'features/test_13_mfcc.hdf'\n",
    "ENERGY_FLAG = False # To include energy co-efficient or not"
   ]
  },
  {
   "cell_type": "code",
   "execution_count": null,
   "metadata": {
    "collapsed": true
   },
   "outputs": [],
   "source": [
    "# Importing the hdf file got by generation from the import_timit.py file \n",
    "timit_test_df = pd.read_hdf(TEST_DF)"
   ]
  },
  {
   "cell_type": "code",
   "execution_count": null,
   "metadata": {
    "collapsed": true
   },
   "outputs": [],
   "source": [
    "# Show the first 5 rows of the table\n",
    "timit_test_df.head()"
   ]
  },
  {
   "cell_type": "code",
   "execution_count": null,
   "metadata": {
    "collapsed": true
   },
   "outputs": [],
   "source": [
    "# Extracting features and labels from the test set\n",
    "test_features = np.array(timit_test_df[\"features\"].tolist())\n",
    "test_labels = np.array(timit_test_df[\"labels\"].tolist())"
   ]
  },
  {
   "cell_type": "code",
   "execution_count": null,
   "metadata": {
    "collapsed": true
   },
   "outputs": [],
   "source": [
    "np.shape(test_features)"
   ]
  },
  {
   "cell_type": "code",
   "execution_count": null,
   "metadata": {
    "collapsed": true
   },
   "outputs": [],
   "source": [
    "# Deleting energy co-efficients from test file\n",
    "\n",
    "''''if not ENERGY_FLAG:\n",
    "    rem = [0,12,24]\n",
    "    \n",
    "    for i in rem:\n",
    "        test_features = np.delete(test_features,i,1)'''"
   ]
  },
  {
   "cell_type": "code",
   "execution_count": null,
   "metadata": {
    "collapsed": true
   },
   "outputs": [],
   "source": [
    "np.shape(test_features)"
   ]
  },
  {
   "cell_type": "code",
   "execution_count": null,
   "metadata": {
    "collapsed": true
   },
   "outputs": [],
   "source": [
    "# Replacing the blank phoneme label with the word 'blank'\n",
    "sortlabels = sorted(list(set(test_labels)))\n",
    "sortlabels[0] = 'blank'\n",
    "sortlabels"
   ]
  },
  {
   "cell_type": "code",
   "execution_count": null,
   "metadata": {
    "collapsed": true
   },
   "outputs": [],
   "source": [
    "# Creating array to store all models\n",
    "\n",
    "gmm_models=[]\n",
    "\n",
    "# Loading and storing all 39 models into array\n",
    "for i in sortlabels:\n",
    "    with open(mfcc_dir+i+'.pkl','rb') as pkl_file:\n",
    "        gmm_models.append(pickle.load(pkl_file))"
   ]
  },
  {
   "cell_type": "code",
   "execution_count": null,
   "metadata": {
    "collapsed": true
   },
   "outputs": [],
   "source": [
    "# Testing Accuracy\n",
    "test_scores=[]\n",
    "# MAP calculation for each of the 40 models. Finally an array of arrays is got\n",
    "for i in range(len(gmm_models)):\n",
    "    print(\"MAP calculation for GMM model of phoneme \",i+1,': ',sortlabels[i])\n",
    "    test_scores.append(gmm_models[i].score_samples(test_features))"
   ]
  },
  {
   "cell_type": "code",
   "execution_count": null,
   "metadata": {
    "collapsed": true
   },
   "outputs": [],
   "source": [
    "# Predicting labels using argmax indices\n",
    "pred_test_labels=np.array(sorted(list(set(test_labels))))[np.argmax((np.transpose(test_scores)),axis=1)]\n",
    "# Accuracy\n",
    "test_acc = (np.count_nonzero(pred_test_labels==test_labels)/len(test_labels))*100\n",
    "print(\"Testing Accuracy: \",test_acc,\"%\")"
   ]
  },
  {
   "cell_type": "code",
   "execution_count": null,
   "metadata": {
    "collapsed": true
   },
   "outputs": [],
   "source": [
    "len(test_labels)"
   ]
  },
  {
   "cell_type": "code",
   "execution_count": null,
   "metadata": {
    "collapsed": true
   },
   "outputs": [],
   "source": [
    "phoneme_error_rate = per.main(test_labels, pred_test_labels)"
   ]
  },
  {
   "cell_type": "code",
   "execution_count": null,
   "metadata": {
    "collapsed": true
   },
   "outputs": [],
   "source": [
    "phoneme_error_rate*100"
   ]
  }
 ],
 "metadata": {
  "kernelspec": {
   "display_name": "Python 3",
   "language": "python",
   "name": "python3"
  },
  "language_info": {
   "codemirror_mode": {
    "name": "ipython",
    "version": 3
   },
   "file_extension": ".py",
   "mimetype": "text/x-python",
   "name": "python",
   "nbconvert_exporter": "python",
   "pygments_lexer": "ipython3",
   "version": "3.4.5"
  }
 },
 "nbformat": 4,
 "nbformat_minor": 2
}
